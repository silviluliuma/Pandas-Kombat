{
 "cells": [
  {
   "cell_type": "markdown",
   "id": "d4f5824e",
   "metadata": {},
   "source": [
    "\n",
    "\n",
    "# Pandas Kombat\n",
    "\n",
    "---\n",
    "\n",
    "__- 2 teams radomly selected__\n",
    "\n",
    "__- Each team must name a Capitan. The Capitan is responsible for the strategy (e.g.: suggest a Power) and will provide the computer__\n",
    "\n",
    "__- 8 challenges in each stream__\n",
    "\n",
    "__- Every member of each team must have at least a kombat__\n",
    "\n",
    "__- Every team have 3 powers that they may use during the tournament__ (You can use max 1 power per Kombat)\n",
    "\n",
    "__- The use of ChatGPT is NOT allowed__\n",
    "\n"
   ]
  },
  {
   "cell_type": "markdown",
   "id": "f8773198",
   "metadata": {},
   "source": [
    "![Image](./img/pandas_kombat.jpg)"
   ]
  },
  {
   "cell_type": "markdown",
   "id": "2b6a42bd",
   "metadata": {},
   "source": [
    "---"
   ]
  },
  {
   "cell_type": "markdown",
   "id": "31f0a4ff",
   "metadata": {},
   "source": [
    "### The Powers\n",
    "\n",
    "- `Switching Power` You must switch the Kombat with the other team.\n",
    "\n",
    "- `Team Power` You can ask help to one member of your team. This member can be neither a former fighter nor the Capitan.\n",
    "\n",
    "- `Capitulation Power` You can quit and your team will go to the next Kombat. You can only activate this power if the other team already finished the Kombat they started after yours. You may agree with the other team to do it simultanously but not consecutively. Your team won't get the point.\n",
    "\n",
    "- `Moha's Power` The other team can't use Internet until you finish your Kombat."
   ]
  },
  {
   "cell_type": "markdown",
   "id": "6cff7d33",
   "metadata": {},
   "source": [
    "---"
   ]
  },
  {
   "cell_type": "markdown",
   "id": "d9ceadfe",
   "metadata": {},
   "source": [
    "# IMPORTANT: Everybody must fight every kombat!!!"
   ]
  },
  {
   "cell_type": "markdown",
   "id": "78f02cfd",
   "metadata": {},
   "source": [
    "---"
   ]
  },
  {
   "cell_type": "code",
   "execution_count": 1,
   "id": "97a50eff",
   "metadata": {},
   "outputs": [],
   "source": [
    "import random\n",
    "import time\n",
    "import pandas as pd"
   ]
  },
  {
   "cell_type": "code",
   "execution_count": 2,
   "id": "9da4c942",
   "metadata": {},
   "outputs": [],
   "source": [
    "# Fighters\n",
    "\n",
    "fighters = ['John',\n",
    "            'Carlos', \n",
    "            'Tomás', \n",
    "            'Sil', \n",
    "            'Ana', \n",
    "            'Elena', \n",
    "            'Silvia', \n",
    "            'Tere', \n",
    "            'Rodrigo', \n",
    "            'Andrew',\n",
    "            'Alana',\n",
    "            'Guille',\n",
    "            'Natalia',\n",
    "            'Alberto']"
   ]
  },
  {
   "cell_type": "code",
   "execution_count": 3,
   "id": "012ab468",
   "metadata": {},
   "outputs": [
    {
     "data": {
      "text/plain": [
       "14"
      ]
     },
     "execution_count": 3,
     "metadata": {},
     "output_type": "execute_result"
    }
   ],
   "source": [
    "len(fighters)"
   ]
  },
  {
   "cell_type": "code",
   "execution_count": 4,
   "id": "36a7b702",
   "metadata": {},
   "outputs": [
    {
     "data": {
      "text/plain": [
       "14"
      ]
     },
     "execution_count": 4,
     "metadata": {},
     "output_type": "execute_result"
    }
   ],
   "source": [
    "# Let's pick random\n",
    "random.shuffle(fighters)\n",
    "len(fighters)"
   ]
  },
  {
   "cell_type": "code",
   "execution_count": 5,
   "id": "e20a0bb4",
   "metadata": {},
   "outputs": [
    {
     "name": "stdout",
     "output_type": "stream",
     "text": [
      "Ana\n",
      "Alberto\n",
      "John\n",
      "Natalia\n",
      "Carlos\n",
      "Elena\n",
      "Alana\n"
     ]
    }
   ],
   "source": [
    "# Team Pandas Series\n",
    "team_series = fighters[:len(fighters)//2]\n",
    "for fighter in team_series:\n",
    "    time.sleep(3)\n",
    "    print(fighter)"
   ]
  },
  {
   "cell_type": "code",
   "execution_count": 6,
   "id": "37568458",
   "metadata": {},
   "outputs": [
    {
     "name": "stdout",
     "output_type": "stream",
     "text": [
      "Rodrigo\n",
      "Tere\n",
      "Guille\n",
      "Silvia\n",
      "Sil\n",
      "Tomás\n",
      "Andrew\n"
     ]
    }
   ],
   "source": [
    "# Team Pandas Dataframe\n",
    "team_series = fighters[len(fighters)//2:]\n",
    "for fighter in team_series:\n",
    "    time.sleep(3)\n",
    "    print(fighter)"
   ]
  },
  {
   "cell_type": "markdown",
   "id": "e8d9f766",
   "metadata": {},
   "source": [
    "---"
   ]
  },
  {
   "cell_type": "code",
   "execution_count": 7,
   "id": "93b1a92f",
   "metadata": {},
   "outputs": [],
   "source": [
    "standings = pd.DataFrame({'Team Pandas Series Warrior':['Alberto',\n",
    "                                                        'Alana',\n",
    "                                                        'John',\n",
    "                                                        'Tere',\n",
    "                                                        'Ana',\n",
    "                                                        'Tomás',\n",
    "                                                        'Alberto',\n",
    "                                                        'NO PRESENTADO'],\n",
    "                          'Team Pandas Series':[0,0,0,1,0,0,0,0],\n",
    "                          'Team Pandas Series Time':['10:10','10:20','10:30','10:38','10:45','11:00','11:00','11:00'],\n",
    "                          'Team Pandas Dataframe Warrior':['Natalia',\n",
    "                                                           'Sil',\n",
    "                                                           'Andrew',\n",
    "                                                           'Guille',\n",
    "                                                           'Rodrigo',\n",
    "                                                           'Silvia',\n",
    "                                                           'Carlos',\n",
    "                                                           'CAPITULATION'],\n",
    "                          'Team Pandas Dataframe':[0,1,0,1,0,0,1,0],\n",
    "                          'Team Pandas Dataframe Time':['10:10','10:20','10:30','10:38','10:45','11:00','11:00','11:00']})"
   ]
  },
  {
   "cell_type": "code",
   "execution_count": 8,
   "id": "d2b087c3",
   "metadata": {},
   "outputs": [
    {
     "name": "stdout",
     "output_type": "stream",
     "text": [
      "Pandas Kombat Start Time: 10:00\n",
      "Team Pandas Series Total Points: 1\n",
      "Team Pandas Dataframe Total Points: 3\n"
     ]
    },
    {
     "data": {
      "text/html": [
       "<div>\n",
       "<style scoped>\n",
       "    .dataframe tbody tr th:only-of-type {\n",
       "        vertical-align: middle;\n",
       "    }\n",
       "\n",
       "    .dataframe tbody tr th {\n",
       "        vertical-align: top;\n",
       "    }\n",
       "\n",
       "    .dataframe thead th {\n",
       "        text-align: right;\n",
       "    }\n",
       "</style>\n",
       "<table border=\"1\" class=\"dataframe\">\n",
       "  <thead>\n",
       "    <tr style=\"text-align: right;\">\n",
       "      <th></th>\n",
       "      <th>Team Pandas Series Warrior</th>\n",
       "      <th>Team Pandas Series</th>\n",
       "      <th>Team Pandas Series Time</th>\n",
       "      <th>Team Pandas Dataframe Warrior</th>\n",
       "      <th>Team Pandas Dataframe</th>\n",
       "      <th>Team Pandas Dataframe Time</th>\n",
       "    </tr>\n",
       "  </thead>\n",
       "  <tbody>\n",
       "    <tr>\n",
       "      <th>0</th>\n",
       "      <td>Alberto</td>\n",
       "      <td>0</td>\n",
       "      <td>10:10</td>\n",
       "      <td>Natalia</td>\n",
       "      <td>0</td>\n",
       "      <td>10:10</td>\n",
       "    </tr>\n",
       "    <tr>\n",
       "      <th>1</th>\n",
       "      <td>Alana</td>\n",
       "      <td>0</td>\n",
       "      <td>10:20</td>\n",
       "      <td>Sil</td>\n",
       "      <td>1</td>\n",
       "      <td>10:20</td>\n",
       "    </tr>\n",
       "    <tr>\n",
       "      <th>2</th>\n",
       "      <td>John</td>\n",
       "      <td>0</td>\n",
       "      <td>10:30</td>\n",
       "      <td>Andrew</td>\n",
       "      <td>0</td>\n",
       "      <td>10:30</td>\n",
       "    </tr>\n",
       "    <tr>\n",
       "      <th>3</th>\n",
       "      <td>Tere</td>\n",
       "      <td>1</td>\n",
       "      <td>10:38</td>\n",
       "      <td>Guille</td>\n",
       "      <td>1</td>\n",
       "      <td>10:38</td>\n",
       "    </tr>\n",
       "    <tr>\n",
       "      <th>4</th>\n",
       "      <td>Ana</td>\n",
       "      <td>0</td>\n",
       "      <td>10:45</td>\n",
       "      <td>Rodrigo</td>\n",
       "      <td>0</td>\n",
       "      <td>10:45</td>\n",
       "    </tr>\n",
       "    <tr>\n",
       "      <th>5</th>\n",
       "      <td>Tomás</td>\n",
       "      <td>0</td>\n",
       "      <td>11:00</td>\n",
       "      <td>Silvia</td>\n",
       "      <td>0</td>\n",
       "      <td>11:00</td>\n",
       "    </tr>\n",
       "    <tr>\n",
       "      <th>6</th>\n",
       "      <td>Alberto</td>\n",
       "      <td>0</td>\n",
       "      <td>11:00</td>\n",
       "      <td>Carlos</td>\n",
       "      <td>1</td>\n",
       "      <td>11:00</td>\n",
       "    </tr>\n",
       "    <tr>\n",
       "      <th>7</th>\n",
       "      <td>NO PRESENTADO</td>\n",
       "      <td>0</td>\n",
       "      <td>11:00</td>\n",
       "      <td>CAPITULATION</td>\n",
       "      <td>0</td>\n",
       "      <td>11:00</td>\n",
       "    </tr>\n",
       "  </tbody>\n",
       "</table>\n",
       "</div>"
      ],
      "text/plain": [
       "  Team Pandas Series Warrior  Team Pandas Series Team Pandas Series Time  \\\n",
       "0                    Alberto                   0                   10:10   \n",
       "1                      Alana                   0                   10:20   \n",
       "2                       John                   0                   10:30   \n",
       "3                       Tere                   1                   10:38   \n",
       "4                        Ana                   0                   10:45   \n",
       "5                      Tomás                   0                   11:00   \n",
       "6                    Alberto                   0                   11:00   \n",
       "7              NO PRESENTADO                   0                   11:00   \n",
       "\n",
       "  Team Pandas Dataframe Warrior  Team Pandas Dataframe  \\\n",
       "0                       Natalia                      0   \n",
       "1                           Sil                      1   \n",
       "2                        Andrew                      0   \n",
       "3                        Guille                      1   \n",
       "4                       Rodrigo                      0   \n",
       "5                        Silvia                      0   \n",
       "6                        Carlos                      1   \n",
       "7                  CAPITULATION                      0   \n",
       "\n",
       "  Team Pandas Dataframe Time  \n",
       "0                      10:10  \n",
       "1                      10:20  \n",
       "2                      10:30  \n",
       "3                      10:38  \n",
       "4                      10:45  \n",
       "5                      11:00  \n",
       "6                      11:00  \n",
       "7                      11:00  "
      ]
     },
     "execution_count": 8,
     "metadata": {},
     "output_type": "execute_result"
    }
   ],
   "source": [
    "print('Pandas Kombat Start Time: 10:00')\n",
    "print('Team Pandas Series Total Points: {}'.format(standings['Team Pandas Series'].sum()))\n",
    "print('Team Pandas Dataframe Total Points: {}'.format(standings['Team Pandas Dataframe'].sum()))\n",
    "standings"
   ]
  },
  {
   "cell_type": "markdown",
   "id": "ea849d6c",
   "metadata": {},
   "source": [
    "---"
   ]
  }
 ],
 "metadata": {
  "kernelspec": {
   "display_name": "Python (m2_env)”\n",
   "language": "python",
   "name": "pm1"
  },
  "language_info": {
   "codemirror_mode": {
    "name": "ipython",
    "version": 3
   },
   "file_extension": ".py",
   "mimetype": "text/x-python",
   "name": "python",
   "nbconvert_exporter": "python",
   "pygments_lexer": "ipython3",
   "version": "3.11.5"
  }
 },
 "nbformat": 4,
 "nbformat_minor": 5
}
